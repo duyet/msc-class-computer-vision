{
 "cells": [
  {
   "cell_type": "markdown",
   "metadata": {},
   "source": [
    "## 1. Cài đặt thư viện"
   ]
  },
  {
   "cell_type": "code",
   "execution_count": 1,
   "metadata": {},
   "outputs": [
    {
     "name": "stdout",
     "output_type": "stream",
     "text": [
      "\u001b[31mboto3 1.7.84 has requirement botocore<1.11.0,>=1.10.84, but you'll have botocore 1.12.71 which is incompatible.\u001b[0m\n",
      "\u001b[33mYou are using pip version 10.0.1, however version 19.0.2 is available.\n",
      "You should consider upgrading via the 'pip install --upgrade pip' command.\u001b[0m\n"
     ]
    }
   ],
   "source": [
    "! pip install -q matplotlib opencv-python Pillow opencv-contrib-python"
   ]
  },
  {
   "cell_type": "code",
   "execution_count": 10,
   "metadata": {},
   "outputs": [],
   "source": [
    "%matplotlib inline\n",
    "from matplotlib import pyplot as plt\n",
    "import cv2\n",
    "import os\n",
    "\n",
    "plt.rcParams[\"figure.figsize\"] = (18, 12)"
   ]
  },
  {
   "cell_type": "code",
   "execution_count": null,
   "metadata": {},
   "outputs": [
    {
     "name": "stdout",
     "output_type": "stream",
     "text": [
      "Write: faces/face-0.jpg\n",
      "Write: faces/face-1.jpg\n",
      "Write: faces/face-2.jpg\n",
      "Write: faces/face-3.jpg\n",
      "Write: faces/face-4.jpg\n",
      "Write: faces/face-5.jpg\n",
      "Write: faces/face-6.jpg\n",
      "Write: faces/face-7.jpg\n",
      "Write: faces/face-8.jpg\n",
      "Write: faces/face-9.jpg\n",
      "Write: faces/face-10.jpg\n",
      "Write: faces/face-11.jpg\n",
      "Write: faces/face-12.jpg\n",
      "Write: faces/face-13.jpg\n",
      "Write: faces/face-14.jpg\n",
      "Write: faces/face-15.jpg\n",
      "Write: faces/face-16.jpg\n",
      "Write: faces/face-17.jpg\n",
      "Write: faces/face-18.jpg\n",
      "Write: faces/face-19.jpg\n",
      "Write: faces/face-20.jpg\n",
      "Write: faces/face-21.jpg\n",
      "Write: faces/face-22.jpg\n",
      "Write: faces/face-23.jpg\n",
      "Write: faces/face-24.jpg\n",
      "Write: faces/face-25.jpg\n",
      "Write: faces/face-26.jpg\n",
      "Write: faces/face-27.jpg\n",
      "Write: faces/face-28.jpg\n",
      "Write: faces/face-29.jpg\n",
      "Write: faces/face-30.jpg\n",
      "Write: faces/face-31.jpg\n",
      "Write: faces/face-32.jpg\n",
      "Write: faces/face-33.jpg\n",
      "Write: faces/face-34.jpg\n",
      "Write: faces/face-35.jpg\n",
      "Write: faces/face-36.jpg\n",
      "Write: faces/face-37.jpg\n",
      "Write: faces/face-38.jpg\n",
      "Write: faces/face-39.jpg\n",
      "Write: faces/face-40.jpg\n",
      "Write: faces/face-41.jpg\n",
      "Write: faces/face-42.jpg\n"
     ]
    }
   ],
   "source": [
    "faceId = 0\n",
    "for file in os.listdir(\"source\"):\n",
    "    if file.endswith(\".png\"):\n",
    "        face_cascade = cv2.CascadeClassifier('haarcascade_frontalface_default.xml')\n",
    "        img = cv2.imread('source/' + file)\n",
    "        gray = cv2.cvtColor(img, cv2.COLOR_BGR2GRAY)\n",
    "        # img = cv2.cvtColor(img, cv2.COLOR_BGR2RGB) \n",
    "        faces = face_cascade.detectMultiScale(gray, scaleFactor=1.15, minNeighbors=15)\n",
    "\n",
    "        for (x, y, w, h) in faces:\n",
    "            fileName = \"faces/face-\"+str(faceId)+ \".jpg\"\n",
    "            cv2.imwrite(fileName, img[y:y+h, x:x+w])\n",
    "            faceId += 1\n",
    "            print(f\"Write: {fileName}\")"
   ]
  },
  {
   "cell_type": "code",
   "execution_count": null,
   "metadata": {},
   "outputs": [],
   "source": [
    "from IPython.core.display import display, HTML\n",
    "\n",
    "[display(HTML(f'<img src=\"faces/face-{i}.jpg\" width=\"100\" />')) for i in range(1, faceId)] "
   ]
  },
  {
   "cell_type": "code",
   "execution_count": null,
   "metadata": {},
   "outputs": [],
   "source": []
  }
 ],
 "metadata": {
  "kernelspec": {
   "display_name": "Python 3",
   "language": "python",
   "name": "python3"
  },
  "language_info": {
   "codemirror_mode": {
    "name": "ipython",
    "version": 3
   },
   "file_extension": ".py",
   "mimetype": "text/x-python",
   "name": "python",
   "nbconvert_exporter": "python",
   "pygments_lexer": "ipython3",
   "version": "3.7.1"
  }
 },
 "nbformat": 4,
 "nbformat_minor": 2
}
