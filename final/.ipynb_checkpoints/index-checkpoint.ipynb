{
 "cells": [
  {
   "cell_type": "code",
   "execution_count": 2,
   "metadata": {},
   "outputs": [],
   "source": [
    "%matplotlib inline\n",
    "\n",
    "import os\n",
    "import cv2\n",
    "import numpy as np\n",
    "from PIL import Image\n",
    "from matplotlib import pyplot as plt\n",
    "plt.rcParams[\"figure.figsize\"] = (18, 12)"
   ]
  },
  {
   "cell_type": "markdown",
   "metadata": {},
   "source": [
    "### Helper Functions"
   ]
  },
  {
   "cell_type": "code",
   "execution_count": 4,
   "metadata": {},
   "outputs": [],
   "source": [
    "# Helper functions\n",
    "scan_images = lambda dir_name, ext='.jpg': [ img for img in os.listdir(dir_name) if img.endswith(ext) ]\n",
    "scan_subdirs = lambda dir_name: [ dir_sub for dir_sub in os.listdir(dir_name) \n",
    "                                     if os.path.isdir(os.path.join(dir_name, dir_sub)) ]\n"
   ]
  },
  {
   "cell_type": "markdown",
   "metadata": {},
   "source": [
    "### 1. Face Detector\n",
    "\n",
    "Công việc nhận diện khuôn mặt sử dụng CascadeClassifier với đặc trưng Haar."
   ]
  },
  {
   "cell_type": "code",
   "execution_count": 6,
   "metadata": {},
   "outputs": [],
   "source": [
    "face_cascade = cv2.CascadeClassifier('haarcascade_frontalface_default.xml')"
   ]
  },
  {
   "cell_type": "code",
   "execution_count": 7,
   "metadata": {},
   "outputs": [],
   "source": [
    "def detect_faces(file_path):\n",
    "    img = cv2.imread(file_path)\n",
    "    gray = cv2.cvtColor(img, cv2.COLOR_BGR2GRAY)\n",
    "    faces = face_cascade.detectMultiScale(gray, scaleFactor=1.15, minNeighbors=15)\n",
    "    return_faces = []\n",
    "    \n",
    "    for (x, y, w, h) in faces:\n",
    "        fileName = \"/tmp/face-\"+str(faceId)+ \".jpg\"\n",
    "        cv2.imwrite(fileName, img[y:y+h, x:x+w])\n",
    "        id, conf = recognizer.predict(gray[y:y+h, x:x+w])\n",
    "\n",
    "        return_faces.append({\n",
    "            'xyz': (x, y, w, h),\n",
    "            'path': fileName,\n",
    "            'faceId': id,\n",
    "            'faceName': getFaceName(DBFaces, id)\n",
    "        })\n",
    "    return return_faces\n",
    "\n",
    "def getFaceName(DBFaces, id):\n",
    "    for face in DBFaces:\n",
    "        if face['faceId'] == id:\n",
    "            return face['name']\n",
    "    return 'unknown'"
   ]
  },
  {
   "cell_type": "code",
   "execution_count": 11,
   "metadata": {},
   "outputs": [
    {
     "name": "stdout",
     "output_type": "stream",
     "text": [
      "Loading Hung\n",
      "Loading user-3\n",
      "Loading user-4\n",
      "Loading user-5\n",
      "Loading user-2\n",
      "Loading MINHHA\n",
      "Loading phuong\n",
      "Loading Quan\n",
      "Loading girl\n",
      "Loading user-1\n",
      "Loading Duyet\n"
     ]
    }
   ],
   "source": [
    "train_dir = 'face_db'\n",
    "DBFaces = []\n",
    "faceId = 0\n",
    "for file in scan_subdirs(train_dir):\n",
    "    print('Loading', file)\n",
    "    file_path = os.path.join(train_dir, file)\n",
    "    for img in scan_images(file_path):\n",
    "        # Load the jpg files into numpy arrays\n",
    "        facesImg = Image.open(os.path.join(file_path, img)).convert('L')\n",
    "        faceNP = np.array(facesImg, 'uint8')\n",
    "        \n",
    "        DBFaces.append({\n",
    "            'faceId': faceId,\n",
    "            'name': file,\n",
    "            'source': os.path.join(file_path, img),\n",
    "            'faceNP': faceNP\n",
    "        })\n",
    "        faceId +=1\n",
    "        \n",
    "faces = []\n",
    "Ids = []\n",
    "for row in DBFaces:\n",
    "    faces.append(row['faceNP'])\n",
    "    Ids.append(row['faceId'])"
   ]
  },
  {
   "cell_type": "markdown",
   "metadata": {},
   "source": [
    "### 2. Face Recognizer\n",
    "\n",
    "Để xây dựng model face recognizer, một phương pháp phổ biến là sử dụng **LBPH (1) (Local Binary Patterns Histograms)** để làm đặc trưng vector cho ảnh khuôn mặt, sau đó sử dụng một phương pháp máy học giám sát bất kỳ để thực hiện việc nhận dạng. Ở bài tập này sử dụng thuật toán KNN (2).\n",
    "\n",
    "- (1) https://docs.opencv.org/2.4/modules/contrib/doc/facerec/facerec_tutorial.html#local-binary-patterns-histograms\n",
    "- (2) https://en.wikipedia.org/wiki/K-nearest_neighbors_algorithm"
   ]
  },
  {
   "cell_type": "code",
   "execution_count": 8,
   "metadata": {},
   "outputs": [],
   "source": [
    "recognizer = cv2.face.LBPHFaceRecognizer_create()"
   ]
  },
  {
   "cell_type": "code",
   "execution_count": 12,
   "metadata": {},
   "outputs": [],
   "source": [
    "# Train model\n",
    "recognizer.train(faces, np.array(Ids))\n",
    "\n",
    "# Lưu model vào face_model.yaml để sử dụng sau\n",
    "recognizer.save(\"face_model.yml\")"
   ]
  },
  {
   "cell_type": "markdown",
   "metadata": {},
   "source": [
    "### 3. Using Face Recognizer in images\n",
    "\n",
    "Để sử dụng Face Recoginer model, kết hợp module **Face Detector** để xác định vị trí khuôn mặt trong ảnh, sau đó sử dụng **Face Recognizer** để predict khuôn mặt là ai dựa trên model đã train ở bước 2."
   ]
  },
  {
   "cell_type": "code",
   "execution_count": null,
   "metadata": {},
   "outputs": [],
   "source": [
    "TEST_DIR = 'test'\n",
    "font = cv2.FONT_HERSHEY_DUPLEX\n",
    "\n",
    "def predict(image_path):\n",
    "    detected_face = detect_faces(image_path)\n",
    "    # print('detected_face', detected_face)\n",
    "    current_img = cv2.imread(image_path)\n",
    "    current_img = cv2.cvtColor(current_img, cv2.COLOR_BGR2RGB) \n",
    "    \n",
    "    # Hiển thị tên dự đoán được\n",
    "    for face in detected_face:\n",
    "        x, y, w, h = face['xyz']\n",
    "        cv2.rectangle(current_img, (x, y), (x+w, y+h), (255, 0, 0), 5)\n",
    "        cv2.putText(current_img, face['faceName'], (x, y + h + 20), font, 1, (255, 255, 255), 1)\n",
    "        \n",
    "    plt.imshow(current_img)\n",
    "    plt.show()\n",
    "    \n",
    "for test_file in scan_images(TEST_DIR, ext='.png'):\n",
    "    test_file_path = os.path.join(TEST_DIR, test_file)\n",
    "    predict(test_file_path)"
   ]
  },
  {
   "cell_type": "code",
   "execution_count": null,
   "metadata": {},
   "outputs": [],
   "source": []
  }
 ],
 "metadata": {
  "kernelspec": {
   "display_name": "Python 3",
   "language": "python",
   "name": "python3"
  },
  "language_info": {
   "codemirror_mode": {
    "name": "ipython",
    "version": 3
   },
   "file_extension": ".py",
   "mimetype": "text/x-python",
   "name": "python",
   "nbconvert_exporter": "python",
   "pygments_lexer": "ipython3",
   "version": "3.7.1"
  }
 },
 "nbformat": 4,
 "nbformat_minor": 2
}
